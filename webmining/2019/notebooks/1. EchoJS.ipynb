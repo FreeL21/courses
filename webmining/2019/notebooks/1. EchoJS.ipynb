{
 "cells": [
  {
   "cell_type": "markdown",
   "metadata": {},
   "source": [
    "# Scraper EchoJS"
   ]
  },
  {
   "cell_type": "code",
   "execution_count": 1,
   "metadata": {},
   "outputs": [],
   "source": [
    "# Dépendances\n",
    "import requests\n",
    "from bs4 import BeautifulSoup"
   ]
  },
  {
   "cell_type": "markdown",
   "metadata": {},
   "source": [
    "## Liens utiles:\n",
    "\n",
    "* Selections CSS: https://flukeout.github.io/"
   ]
  },
  {
   "cell_type": "markdown",
   "metadata": {},
   "source": [
    "## 1. Récupérer le HTML de la page"
   ]
  },
  {
   "cell_type": "code",
   "execution_count": 5,
   "metadata": {},
   "outputs": [
    {
     "data": {
      "text/plain": [
       "200"
      ]
     },
     "execution_count": 5,
     "metadata": {},
     "output_type": "execute_result"
    }
   ],
   "source": [
    "r = requests.get('http://www.echojs.com/')\n",
    "r.status_code"
   ]
  },
  {
   "cell_type": "markdown",
   "metadata": {},
   "source": [
    "## 2. Utiliser BeautifulSoup pour parser le HTML"
   ]
  },
  {
   "cell_type": "code",
   "execution_count": 6,
   "metadata": {},
   "outputs": [],
   "source": [
    "soup = BeautifulSoup(r.text)"
   ]
  },
  {
   "cell_type": "markdown",
   "metadata": {},
   "source": [
    "## 3. Requêter le HTML pour récupérer nos liens"
   ]
  },
  {
   "cell_type": "code",
   "execution_count": 15,
   "metadata": {},
   "outputs": [
    {
     "name": "stdout",
     "output_type": "stream",
     "text": [
      "Title: VS Code Extension: New Remote Development Pack introduced\n",
      "Url: https://medium.com/@billys.moustakas/vs-code-extension-new-remote-development-pack-introduced-fe3730dde771\n",
      "\n",
      "Title: Koji is a platform that makes building and deploying full-stack web apps dramatically faster, and easier.\n",
      "Url: https://gokoji.com/\n",
      "\n",
      "Title: Licia: Useful Utility Collection with Zero Dependencies:)\n",
      "Url: https://licia.liriliri.io/\n",
      "\n",
      "Title: PCI DSS for “Blockchain Based” Crypto Projects\n",
      "Url: https://2muchcoffee.com/blog/pci-dss-for-crypto-projects-blockchain-based/\n",
      "\n",
      "Title: Node.js TypeScript #12. Introduction to Worker Threads with TypeScript\n",
      "Url: https://wanago.io/2019/05/06/node-js-typescript-12-worker-threads/\n",
      "\n",
      "Title: Open source full-stack solution for fast PWA development\n",
      "Url: https://bento-starter.netlify.com/\n",
      "\n",
      "Title: Build a Modern Chat Application with React\n",
      "Url: https://www.cometchat.com/tutorials/build-a-modern-chat-application-with-react/\n",
      "\n",
      "Title: Angular JS chat tutorial: Anonymous group chat\n",
      "Url: https://www.cometchat.com/tutorials/build-an-anonymous-group-chat-with-angular-7/\n",
      "\n",
      "Title: EchoJS Vacation Notice\n",
      "Url: /news/31674\n",
      "\n",
      "Title: 5 things you didn’t know about React DevTools\n",
      "Url: https://blog.logrocket.com/5-things-you-didnt-know-about-react-devtools-2c6e0ef22529\n",
      "\n",
      "Title: A horrifying globalThis polyfill in universal JavaScript\n",
      "Url: https://mathiasbynens.be/notes/globalthis\n",
      "\n",
      "Title: Getting Started With React Redux Using React\n",
      "Url: https://www.js-tutorials.com/react-js/getting-started-with-react-redux-example-using-react/\n",
      "\n",
      "Title: Npm module that returns user's social network avatar without need of token or API keys\n",
      "Url: https://github.com/eldimious/network-avatar-picker\n",
      "\n",
      "Title: Image recognition with React & ONNX.js - On Web\n",
      "Url: https://heartbeat.fritz.ai/building-an-image-recognition-app-using-onnx-js-c7147f4f291b\n",
      "\n",
      "Title: Terminal based 404 page with jargon, wikipedia, github and rfc commands\n",
      "Url: https://terminal.jcubic.pl/404\n",
      "\n",
      "Title: Introduction to Angular Grid\n",
      "Url: https://techshard.com/2019/05/05/introduction-to-angular-grid/\n",
      "\n",
      "Title: Combination of React and D3\n",
      "Url: https://medium.com/@icrosil/combination-of-react-and-d3-1fb07b00fb55\n",
      "\n",
      "Title: React Hooks/Suspense and a Functional Programming: Hooks/Suspense as Applicative/Monadic syntax\n",
      "Url: https://medium.freecodecamp.org/when-to-use-react-suspense-vs-react-hooks-f66ef94cb54f\n",
      "\n",
      "Title: A Starter Project for Building Distributed, Message Based Node Apps\n",
      "Url: https://github.com/node-ts/bus-starter\n",
      "\n",
      "Title: React Navigation vs. React Native Navigation: Which is right for you?\n",
      "Url: https://blog.logrocket.com/react-navigation-vs-react-native-navigation-which-is-right-for-you-3d47c1cd1d63\n",
      "\n",
      "Title: Node Express Analytics Dashboard with Cube.js\n",
      "Url: https://cube.dev/blog/node-express-analytics-dashboard-with-cubejs/\n",
      "\n",
      "Title: 10 JavaScript Charting Libraries for Every Data Visualization Need\n",
      "Url: https://hackernoon.com/10-javascript-charting-libraries-data-visualization-b77523d23372\n",
      "\n",
      "Title: Facebook makes its first browser API contribution\n",
      "Url: https://techcrunch.com/2019/04/22/facebook-makes-its-first-browser-api-contribution/\n",
      "\n",
      "Title: Introduction to Vue Render Functions (w/ examples)\n",
      "Url: https://snipcart.com/blog/vue-render-functions\n",
      "\n",
      "Title: React: JSX & Rendering\n",
      "Url: https://itnext.io/react-jsx-rendering-4405d3a3d6c3\n",
      "\n",
      "Title: How to Write Node.Js Applications in Typescript\n",
      "Url: https://medium.com/@freek_mencke/how-to-write-node-js-applications-in-typescript-a54af696f66?source=friends_link&amp;sk=2576a44b4fed8e1a49c2513fc2ac0fd3\n",
      "\n",
      "Title: Redux Agent · Reducer-driven effects for React/Redux apps\n",
      "Url: https://redux-agent.org\n",
      "\n",
      "Title: LIPS Is Pretty Simple - lisp in JavaScript with full macro support\n",
      "Url: https://jcubic.github.io/lips/\n",
      "\n",
      "Title: Using Boxing to prevent distribution of conditional types in typescript\n",
      "Url: https://lorefnon.tech/2019/05/02/using-boxing-to-prevent-distribution-of-conditional-types/\n",
      "\n",
      "Title: A better strategy for long term caching\n",
      "Url: https://medium.com/@sujankanwar/a-better-strategy-for-long-term-caching-d41f3c63cb74?source=friends_link&sk=e714b2838a48b83a7fa90377faed8e54\n",
      "\n"
     ]
    }
   ],
   "source": [
    "links = soup.select('article > h2 > a')\n",
    "\n",
    "data = []\n",
    "\n",
    "for link in links:\n",
    "    data.append({\n",
    "        'title': link.get_text(),\n",
    "        'url': link.get('href')\n",
    "    })\n",
    "\n",
    "for post in data:\n",
    "    print('Title: %s' % post['title'])\n",
    "    print('Url: %s' % post['url'])\n",
    "    print()"
   ]
  },
  {
   "cell_type": "markdown",
   "metadata": {},
   "source": [
    "## 4. Ecrire un fichier CSV"
   ]
  },
  {
   "cell_type": "code",
   "execution_count": 16,
   "metadata": {},
   "outputs": [],
   "source": [
    "import csv"
   ]
  },
  {
   "cell_type": "code",
   "execution_count": 17,
   "metadata": {},
   "outputs": [],
   "source": [
    "with open('./echojs.csv', 'w') as f:\n",
    "    writer = csv.DictWriter(f, fieldnames=['title', 'url'])\n",
    "    writer.writeheader()\n",
    "    \n",
    "    for post in data:\n",
    "        writer.writerow(post)"
   ]
  }
 ],
 "metadata": {
  "kernelspec": {
   "display_name": "Python 3",
   "language": "python",
   "name": "python3"
  },
  "language_info": {
   "codemirror_mode": {
    "name": "ipython",
    "version": 3
   },
   "file_extension": ".py",
   "mimetype": "text/x-python",
   "name": "python",
   "nbconvert_exporter": "python",
   "pygments_lexer": "ipython3",
   "version": "3.6.5"
  }
 },
 "nbformat": 4,
 "nbformat_minor": 2
}
