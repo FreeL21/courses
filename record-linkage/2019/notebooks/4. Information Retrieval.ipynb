{
 "cells": [
  {
   "cell_type": "code",
   "execution_count": 1,
   "metadata": {},
   "outputs": [],
   "source": [
    "# Dependencies\n",
    "import re\n",
    "import json\n",
    "from collections import defaultdict"
   ]
  },
  {
   "cell_type": "markdown",
   "metadata": {},
   "source": [
    "# Information Retrieval"
   ]
  },
  {
   "cell_type": "code",
   "execution_count": 2,
   "metadata": {},
   "outputs": [],
   "source": [
    "# Reading the file\n",
    "REVIEWS = []\n",
    "with open('../data/reviews.json') as f:\n",
    "    for i, line in enumerate(f):\n",
    "        if line.strip():\n",
    "            REVIEWS.append((i, json.loads(line)))"
   ]
  },
  {
   "cell_type": "code",
   "execution_count": 3,
   "metadata": {},
   "outputs": [
    {
     "name": "stdout",
     "output_type": "stream",
     "text": [
      "Not much to write about here, but it does exactly what it's supposed to. filters out the pop sounds. now my recordings are much more crisp. it is one of the lowest prices pop filters on amazon so might as well buy it, they honestly work the same despite their pricing,\n",
      "\n",
      "The product does exactly as it should and is quite affordable.I did not realized it was double screened until it arrived, so it was even better than I had expected.As an added bonus, one of the screens carries a small hint of the smell of an old grape candy I used to buy, so for reminiscent's sake, I cannot stop putting the pop filter next to my nose and smelling it after recording. :DIf you needed a pop filter, this will work just as well as the expensive ones, and it may even come with a pleasing aroma like mine did!Buy this product! :]\n",
      "\n",
      "The primary job of this device is to block the breath that would otherwise produce a popping sound, while allowing your voice to pass through with no noticeable reduction of volume or high frequencies. The double cloth filter blocks the pops and lets the voice through with no coloration. The metal clamp mount attaches to the mike stand secure enough to keep it attached. The goose neck needs a little coaxing to stay where you put it.\n",
      "\n",
      "Nice windscreen protects my MXL mic and prevents pops. Only thing is that the gooseneck is only marginally able to hold the screen in position and requires careful positioning of the clamp to avoid sagging.\n",
      "\n",
      "This pop filter is great. It looks and performs like a studio filter. If you're recording vocals this will eliminate the pops that gets recorded when you sing.\n",
      "\n"
     ]
    }
   ],
   "source": [
    "# Printing first reviews\n",
    "for _, doc in REVIEWS[:5]:\n",
    "    print(doc['reviewText'])\n",
    "    print()"
   ]
  },
  {
   "cell_type": "markdown",
   "metadata": {},
   "source": [
    "## Building the index"
   ]
  },
  {
   "cell_type": "code",
   "execution_count": 4,
   "metadata": {},
   "outputs": [
    {
     "data": {
      "text/plain": [
       "{'chat', 'mange', 'souris'}"
      ]
     },
     "execution_count": 4,
     "metadata": {},
     "output_type": "execute_result"
    }
   ],
   "source": [
    "SPLITTER_RE = re.compile(r'\\s+')\n",
    "PUNCTUATION_RE = re.compile(r'[.\\-,;]')\n",
    "STOPWORDS = set([\n",
    "    'le',\n",
    "    'la',\n",
    "    'the',\n",
    "    'a'\n",
    "])\n",
    "\n",
    "def normalize_token(token):\n",
    "    return re.sub(PUNCTUATION_RE, '', token.strip().lower())\n",
    "\n",
    "def extract_tokens(text):\n",
    "    tokens = (normalize_token(t) for t in SPLITTER_RE.split(text.strip()))\n",
    "              \n",
    "    return set(t for t in tokens if t not in STOPWORDS)\n",
    "\n",
    "extract_tokens('La souris mange le chat.')"
   ]
  },
  {
   "cell_type": "code",
   "execution_count": 5,
   "metadata": {
    "scrolled": true
   },
   "outputs": [
    {
     "name": "stdout",
     "output_type": "stream",
     "text": [
      "For this text:\n",
      "Not much to write about here, but it does exactly what it's supposed to. filters out the pop sounds. now my recordings are much more crisp. it is one of the lowest prices pop filters on amazon so might as well buy it, they honestly work the same despite their pricing,\n",
      "\n",
      "We got:\n",
      "{'it', 'what', 'so', 'sounds', 'but', 'out', 'well', 'supposed', 'my', 'one', 'does', 'to', 'is', 'they', 'pricing', \"it's\", 'their', 'as', 'lowest', 'recordings', 'filters', 'on', 'pop', 'crisp', 'amazon', 'of', 'much', 'exactly', 'about', 'write', 'more', 'work', 'same', 'despite', 'now', 'not', 'buy', 'honestly', 'might', 'prices', 'here', 'are'}\n"
     ]
    }
   ],
   "source": [
    "print('For this text:')\n",
    "print(REVIEWS[0][1]['reviewText'])\n",
    "print()\n",
    "print('We got:')\n",
    "print(extract_tokens(REVIEWS[0][1]['reviewText']))"
   ]
  },
  {
   "cell_type": "code",
   "execution_count": 6,
   "metadata": {},
   "outputs": [],
   "source": [
    "INDEX = defaultdict(set)\n",
    "\n",
    "for i, review in REVIEWS:\n",
    "    for token in extract_tokens(review['reviewText']):\n",
    "        INDEX[token].add(i)"
   ]
  },
  {
   "cell_type": "code",
   "execution_count": 7,
   "metadata": {},
   "outputs": [
    {
     "data": {
      "text/plain": [
       "{4711, 9767}"
      ]
     },
     "execution_count": 7,
     "metadata": {},
     "output_type": "execute_result"
    }
   ],
   "source": [
    "INDEX['shit']"
   ]
  },
  {
   "cell_type": "code",
   "execution_count": 8,
   "metadata": {},
   "outputs": [
    {
     "data": {
      "text/plain": [
       "\"Works great for the price!! I just started to get into pedals and I thought I'd try something cheap like this, and I was not dissatisfied. Don't mistake this for a distortion pedal for those who are new to all this, although you can get a distorted tone for this pedal, it just boosts the volume with slight raise in gain (For those who do know your shit please don't call me out on that, I don't really know and I'm just helping ones like me in simple terms,lol). It works great for switching to a more abrasive tone for solo'ing or just wanting to get loud in your songs.Definitely would pick this one up for a super cheap &#34;I just wanna try it&#34; pedal.\""
      ]
     },
     "execution_count": 8,
     "metadata": {},
     "output_type": "execute_result"
    }
   ],
   "source": [
    "REVIEWS[4711][1]['reviewText']"
   ]
  },
  {
   "cell_type": "code",
   "execution_count": 9,
   "metadata": {
    "scrolled": false
   },
   "outputs": [
    {
     "name": "stdout",
     "output_type": "stream",
     "text": [
      "I purchased this when it was on sale during the Christmas season - I figured that for the asking price at the time I could not go wrong.My expectations were frankly low. I had heard nothing but horrible things about Epiphones, with the main complaint being they would not stay in tune. Other complaints included poor overall quality and terrible playability. What I received was the polar opposite: I received an instrument with a strikingly beautiful finish, and one that stays in tune (amazingly it was close to being in perfect tune when I unboxed it.)I am not wild about the strings that came stock, but I am a drummer and suffer the same disappointment about heads that ship with new drums. I guess guitarists expect to change strings on a new guitar the same way drummers do when it comes to heads. In the near future I intend to restring the guitar withD'Addario ECG25 Chromes Flat Wound Electric Guitar Strings, Light, 12-52, which, while thick, should make the instrument jazz-friendly. I realize that flatwound strings will require a new set-up and intonation, but considering how good the guitar is and how relatively little it cost me, the new strings and work will be an investment.Out of the box, though, the action was reasonably low and the frets appeared [to my novice eyes and fingers] to be properly dressed. I have already invested in a good - but not great case:Guardian Hardshell Electric Guitar Caseto store the guitar (I also uploaded a customer-provided photo on this page that shows the case and how well the guitar fits.)For the record, I use the following amp, which I have also reviewed that is a perfect match to this guitar:Kustom Defender 15 Watt Class A Guitar Headthat I run through aKustom  The Defender 1 x 12 Guitar Extension Cabinet for 5H Head.Bottom line: this is a great instrument for beginners and not a bad one for experienced players. The price is right, and the quality clearly shows that off shore manufacturers have made significant improvements over the past year.\n",
      "\n"
     ]
    }
   ],
   "source": [
    "def query(text):\n",
    "    matches = None\n",
    "    \n",
    "    for token in extract_tokens(text):\n",
    "        if matches is None:\n",
    "            matches = INDEX[token]\n",
    "        else:\n",
    "            matches &= INDEX[token]\n",
    "            \n",
    "    if matches is None:\n",
    "        return set()\n",
    "        \n",
    "    return [REVIEWS[doc][1] for doc in matches]\n",
    "\n",
    "for review in query('wild instrument'):\n",
    "    print(review['reviewText'])\n",
    "    print()"
   ]
  }
 ],
 "metadata": {
  "kernelspec": {
   "display_name": "Python 3",
   "language": "python",
   "name": "python3"
  },
  "language_info": {
   "codemirror_mode": {
    "name": "ipython",
    "version": 3
   },
   "file_extension": ".py",
   "mimetype": "text/x-python",
   "name": "python",
   "nbconvert_exporter": "python",
   "pygments_lexer": "ipython3",
   "version": "3.6.5"
  }
 },
 "nbformat": 4,
 "nbformat_minor": 2
}
