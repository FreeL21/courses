{
 "cells": [
  {
   "cell_type": "code",
   "execution_count": 17,
   "metadata": {},
   "outputs": [],
   "source": [
    "import re\n",
    "import csv\n",
    "from collections import defaultdict"
   ]
  },
  {
   "cell_type": "markdown",
   "metadata": {},
   "source": [
    "# Fonction de normalisation"
   ]
  },
  {
   "cell_type": "code",
   "execution_count": 11,
   "metadata": {},
   "outputs": [],
   "source": [
    "SQUEEZE_REGEX = r'\\s+'\n",
    "\n",
    "def normalize(s):\n",
    "    return re.sub(SQUEEZE_REGEX, '', s.lower().strip())"
   ]
  },
  {
   "cell_type": "code",
   "execution_count": 12,
   "metadata": {},
   "outputs": [
    {
     "data": {
      "text/plain": [
       "('dupond', 'dupond')"
      ]
     },
     "execution_count": 12,
     "metadata": {},
     "output_type": "execute_result"
    }
   ],
   "source": [
    "# Test\n",
    "normalize('Dupond'), normalize('DUPOND     ')"
   ]
  },
  {
   "cell_type": "markdown",
   "metadata": {},
   "source": [
    "# Clustering"
   ]
  },
  {
   "cell_type": "code",
   "execution_count": 15,
   "metadata": {},
   "outputs": [],
   "source": [
    "# Chargement du fichier\n",
    "with open('../data/dirty-musicians.csv') as f:\n",
    "    reader = csv.DictReader(f)\n",
    "    musicians = set(line['artist'] for line in reader)"
   ]
  },
  {
   "cell_type": "code",
   "execution_count": 21,
   "metadata": {},
   "outputs": [],
   "source": [
    "def clustering(strings):\n",
    "    groups = defaultdict(list)\n",
    "    \n",
    "    for s in strings:\n",
    "        groups[normalize(s)].append(s)\n",
    "        \n",
    "    for cluster in groups.values():\n",
    "        if len(cluster) > 1:\n",
    "            yield cluster"
   ]
  },
  {
   "cell_type": "code",
   "execution_count": 22,
   "metadata": {
    "scrolled": true
   },
   "outputs": [
    {
     "name": "stdout",
     "output_type": "stream",
     "text": [
      "['K.S. Makhan', 'K. S. Makhan']\n",
      "['SpaceGhostPurrp', 'Spaceghostpurrp']\n",
      "['Kim Jisoo (singer)', 'Kim Jisoo (Singer)']\n",
      "['B.Slade', 'B. Slade']\n",
      "['Black The Ripper', 'Black the Ripper']\n",
      "['Nick geezy', 'Nick Geezy']\n",
      "['Marian richero', 'Marian Richero', 'MARIAN RICHERO']\n",
      "['Salman Aditya', 'Salman aditya']\n",
      "['DJ MANY', 'Dj many']\n",
      "['Shaun Nedd', 'Shaun nedd']\n",
      "['J.Trill', 'J. Trill']\n",
      "['Crucial Star', 'Crucial star']\n",
      "['Eric Taylor (brazilian musician)', 'Eric Taylor (Brazilian musician)']\n",
      "['Adrian lux', 'Adrian Lux']\n",
      "['Von LMO', 'Von Lmo']\n",
      "['Mr. CAP', 'Mr.CAP']\n",
      "['K.Michelle', 'K. Michelle']\n"
     ]
    }
   ],
   "source": [
    "# Test\n",
    "for cluster in clustering(musicians):\n",
    "    print(cluster)"
   ]
  }
 ],
 "metadata": {
  "kernelspec": {
   "display_name": "Python 3",
   "language": "python",
   "name": "python3"
  },
  "language_info": {
   "codemirror_mode": {
    "name": "ipython",
    "version": 3
   },
   "file_extension": ".py",
   "mimetype": "text/x-python",
   "name": "python",
   "nbconvert_exporter": "python",
   "pygments_lexer": "ipython3",
   "version": "3.6.5"
  }
 },
 "nbformat": 4,
 "nbformat_minor": 2
}
