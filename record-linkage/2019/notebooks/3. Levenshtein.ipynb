{
 "cells": [
  {
   "cell_type": "code",
   "execution_count": 1,
   "metadata": {},
   "outputs": [],
   "source": [
    "import re\n",
    "import csv\n",
    "from collections import defaultdict\n",
    "from Levenshtein import distance as levenshtein"
   ]
  },
  {
   "cell_type": "markdown",
   "metadata": {},
   "source": [
    "# Clustering"
   ]
  },
  {
   "cell_type": "code",
   "execution_count": 2,
   "metadata": {},
   "outputs": [],
   "source": [
    "# Chargement du fichier\n",
    "with open('../data/dirty-figshare.csv') as f:\n",
    "    reader = csv.DictReader(f)\n",
    "    journals = set(line['Journal title'] for line in reader)"
   ]
  },
  {
   "cell_type": "code",
   "execution_count": 3,
   "metadata": {},
   "outputs": [],
   "source": [
    "def clustering(strings):\n",
    "    strings = list(strings)\n",
    "    \n",
    "    for i in range(len(strings)):\n",
    "        a = strings[i]\n",
    "        \n",
    "        for j in range(i + 1, len(strings)):\n",
    "            b = strings[j]\n",
    "            \n",
    "            if levenshtein(a, b) <= 1:\n",
    "                yield (a, b)"
   ]
  },
  {
   "cell_type": "code",
   "execution_count": 4,
   "metadata": {
    "scrolled": true
   },
   "outputs": [
    {
     "name": "stdout",
     "output_type": "stream",
     "text": [
      "0 ('The American Journal of Human Genetics', 'The Americal Journal of Human Genetics')\n",
      "1 ('Epigenetics', 'Epigentics')\n",
      "2 ('Development ', 'Development')\n",
      "3 ('Inyernational Journal of Epidemiology', 'International Journal of Epidemiology')\n",
      "4 ('PLOS One', 'PLoS One')\n",
      "5 ('Nature communications', 'Nature Communications')\n",
      "6 ('Neurolmage', 'NeuroImage')\n",
      "7 ('Neurolmage', 'Neuroimage')\n",
      "8 ('The Journal of Biological Chemistry', 'The journal of Biological Chemistry')\n",
      "9 ('European Child and Adolescent Psychiatty', 'European Child and Adolescent Psychiatry')\n",
      "10 ('Hepatology', 'Heptology')\n",
      "11 ('Trends in Neurosciences', 'Trends in Neuroscience')\n",
      "12 ('Biochemical Journals', 'Biochemical Journal')\n",
      "13 ('Journal of Affective Disorders ', 'Journal of Affective Disorders')\n",
      "14 ('International Journal of Behavioral Nutrition and Physical Activity', 'International Journal of Behavioural Nutrition and Physical Activity')\n",
      "15 ('Proceedings of the National Academy of Sciences of the United States of America ', 'Proceedings of the National Academy of Sciences of the United States of America')\n",
      "16 ('J Med Chem', 'J Med Chem.')\n",
      "17 ('Journal of Neurology, Neurosurgery & Psychiatry ', 'Journal of Neurology, Neurosurgery & Psychiatry')\n",
      "18 ('Annals of Neurology', 'Annals of Neurology ')\n",
      "19 ('Journal of Virology\\n', 'Journal of Virology')\n",
      "20 ('Biinformatics', 'Bioinformatics')\n",
      "21 ('Parsitology', 'Parasitology')\n",
      "22 ('Biosocieties', 'BioSocieties')\n",
      "23 ('Journal of Neurochemistry ', 'Journal of Neurochemistry')\n",
      "24 ('Malaria Journal', 'Malaria Journal ')\n",
      "25 ('Journal of Neuroscience', 'Journal of Neuroscience ')\n",
      "26 ('BMC Infectious diseases', 'BMC Infectious Diseases')\n",
      "27 ('Clinical Infectious Diseases ', 'Clinical Infectious Diseases')\n",
      "28 ('Trials ', 'Trials')\n",
      "29 ('Behavior Research and Therapy', 'Behaviour Research and Therapy')\n",
      "30 ('EMBO Reports', 'EMBO reports')\n",
      "31 ('BMC Genomics.', 'BMC Genomics')\n",
      "32 ('BMS Genomics', 'BMC Genomics')\n",
      "33 ('Journal of Clinical Microbiology ', 'Journal of Clinical Microbiology')\n",
      "34 ('PLoS Neglected Tropical Diseases', 'PLOS Neglected Tropical Diseases')\n",
      "35 ('PLoS Neglected Tropical Diseases', 'PLoS Negected Tropical Diseases')\n",
      "36 ('British Journal of Ophthalmology', 'British Journal of Opthalmology')\n",
      "37 ('International Joural of Epidemiology', 'International Journal of Epidemiology')\n",
      "38 ('PLosONE', 'PLoSONE')\n",
      "39 ('Journal od Clinical Endocrinology', 'Journal of Clinical Endocrinology')\n",
      "40 ('The EMBO journal', 'The EMBO Journal')\n",
      "41 ('Genetic Epidemiology', 'Genetic Epidemology')\n",
      "42 ('Plos one', 'Plos One')\n",
      "43 ('Plos One', 'PloS One')\n",
      "44 ('J Immunol ', 'J Immunol')\n",
      "45 ('Antimicrobial Agents and Chemotherapy', 'Antimicrobial Agfents and Chemotherapy')\n",
      "46 ('Antimicrobial Agents and Chemotherapy', 'Antimicobial Agents and Chemotherapy')\n",
      "47 ('PLOS ONE', 'PLoS ONE')\n",
      "48 ('PLOS ONE', 'PLOS  ONE')\n",
      "49 ('Neuroimage: Clinical', 'NeuroImage: Clinical')\n",
      "50 ('Neuroimage: Clinical', 'Neuroimage: clinical')\n",
      "51 ('American Journal of Preventive Medicine ', 'American Journal of Preventive Medicine')\n",
      "52 ('PloS One', 'PLoS One')\n",
      "53 ('PLoS ONE', 'PloS ONE')\n",
      "54 ('PLoS ONE', 'PLoSONE')\n",
      "55 ('Proceedings of the National Academy of Sciences', 'Proceedings of the national Academy of Sciences')\n",
      "56 ('Proceedings of the National Academy of Sciences', 'Proceedings of the National Academy of Sciences ')\n",
      "57 ('British Journal of Psychiatry', 'Britsh Journal of Psychiatry')\n",
      "58 ('Americal Journal of Psychiatry', 'American Journal of Psychiatry')\n",
      "59 ('NA', 'RNA')\n",
      "60 ('RNA biology', 'RNA Biology')\n",
      "61 ('Biochimica et Bioohysica Acta - Molecular Basis of Disease', 'Biochimica et Biophysica Acta - Molecular Basis of Disease')\n",
      "62 ('PLOS Genetics', 'PLoS Genetics')\n",
      "63 ('Neuroscience', 'Neuroscience ')\n",
      "64 ('PLOS Computational Biology', 'PLoS Computational Biology')\n",
      "65 ('PLOS Computational Biology', 'PLOS  Computational Biology')\n",
      "66 ('BMC Infectious Diseases ', 'BMC Infectious Diseases')\n",
      "67 ('BMC Public Health', 'BMC  Public Health')\n",
      "68 ('PLOS Pathogens', 'PLoS Pathogens')\n",
      "69 ('Journal of Visualized Experiments ', 'Journal of Visualized Experiments')\n",
      "70 ('Journal of Epidemiology & Community Health', 'Journal of Epidemiology & Community Health ')\n",
      "71 ('Social Science & Medicine ', 'Social Science & Medicine')\n",
      "72 ('Nucleic Acids Research', 'Nucleic Acids Research\\n')\n",
      "73 ('Nucleic Acids Research', 'Nucleic Acid Research')\n",
      "74 ('Nucleic Acids Research', 'Nucleic Acids Research ')\n",
      "75 ('PLOS', 'PLoS')\n",
      "76 ('British journal of Clinical Pharmacology', 'British Journal of Clinical Pharmacology')\n",
      "77 ('Angewande Chemie', 'Angewandte Chemie')\n",
      "78 ('BMJ open', 'BMJ Open')\n",
      "79 ('Journal of molecular Endocrinology', 'Journal of Molecular Endocrinology')\n",
      "80 ('Lancet ', 'Lancet')\n",
      "81 ('NeuroImage', 'Neuroimage')\n",
      "82 ('Nucleic Acids Research\\n', 'Nucleic Acids Research ')\n",
      "83 ('Journal of Medicinal Chemistry ', 'Journal of Medicinal Chemistry')\n",
      "84 ('PloS ONE', 'Plos ONE')\n",
      "85 ('Magnetic Resonance in Medicine ', 'Magnetic Resonance in Medicine')\n",
      "86 ('Journal of the Royal Society, Interface', 'Journal of the Royal Society Interface')\n",
      "87 ('NeuroImage: Clinical', 'NeuroImage: Clinical ')\n",
      "88 ('Schizophrenia Bulletin ', 'Schizophrenia Bulletin')\n",
      "89 ('British Journal of Pharmacology', 'British Jounal of Pharmacology')\n",
      "90 ('Pflugers Archiv', 'Pflugers Archive')\n",
      "91 ('Journal of Medical Virology', 'Journal of Medical Virology ')\n",
      "92 ('Neuropharmacology', 'Neuropharmacology ')\n",
      "93 ('Journal of Visualized Experiements', 'Journal of Visualized Experiments')\n"
     ]
    }
   ],
   "source": [
    "# Test\n",
    "for i, pair in enumerate(clustering(journals)):\n",
    "    print(i, pair)"
   ]
  },
  {
   "cell_type": "code",
   "execution_count": null,
   "metadata": {},
   "outputs": [],
   "source": []
  }
 ],
 "metadata": {
  "kernelspec": {
   "display_name": "Python 3",
   "language": "python",
   "name": "python3"
  },
  "language_info": {
   "codemirror_mode": {
    "name": "ipython",
    "version": 3
   },
   "file_extension": ".py",
   "mimetype": "text/x-python",
   "name": "python",
   "nbconvert_exporter": "python",
   "pygments_lexer": "ipython3",
   "version": "3.6.5"
  }
 },
 "nbformat": 4,
 "nbformat_minor": 2
}
